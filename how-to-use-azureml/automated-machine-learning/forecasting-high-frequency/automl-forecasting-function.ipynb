{
  "cells": [
    {
      "cell_type": "markdown",
      "execution_count": null,
      "metadata": {},
      "outputs": [],
      "source": [
        "# Automated Machine Learning\n",
        "\n",
        "#### Forecasting away from training data\n",
        "\n",
        "\n",
        "## Contents\n",
        "1. [Introduction](#Introduction)\n",
        "2. [Setup](#Setup)\n",
        "3. [Data](#Data)\n",
        "4. [Prepare remote compute and data.](#prepare_remote)\n",
        "4. [Create the configuration and train a forecaster](#train)\n",
        "5. [Forecasting from the trained model](#forecasting)\n",
        "6. [Forecasting away from training data](#forecasting_away)"
      ]
    },
    {
      "cell_type": "markdown",
      "execution_count": null,
      "metadata": {},
      "outputs": [],
      "source": [
        "## Introduction\n",
        "This notebook demonstrates the full interface to the `forecast()` function. \n",
        "\n",
        "The best known and most frequent usage of `forecast` enables forecasting on test sets that immediately follows training data. \n",
        "\n",
        "However, in many use cases it is necessary to continue using the model for some time before retraining it. This happens especially in **high frequency forecasting** when forecasts need to be made more frequently than the model can be retrained. Examples are in Internet of Things and predictive cloud resource scaling.\n",
        "\n",
        "Here we show how to use the `forecast()` function when a time gap exists between training data and prediction period.\n",
        "\n",
        "Terminology:\n",
        "* forecast origin: the last period when the target value is known\n",
        "* forecast periods(s): the period(s) for which the value of the target is desired.\n",
        "* forecast horizon: the number of forecast periods\n",
        "* lookback: how many past periods (before forecast origin) the model function depends on. The larger of number of lags and length of rolling window.\n",
        "* prediction context: `lookback` periods immediately preceding the forecast origin\n",
        "\n",
        "![Impressions](https://PixelServer20190423114238.azurewebsites.net/api/impressions/MachineLearningNotebooks/how-to-use-azureml/automated-machine-learning/automl-forecasting-function.png)"
      ]
    },
    {
      "cell_type": "markdown",
      "execution_count": null,
      "metadata": {},
      "outputs": [],
      "source": [
        "## Setup"
      ]
    },
    {
      "cell_type": "markdown",
      "execution_count": null,
      "metadata": {},
      "outputs": [],
      "source": [
        "Please make sure you have followed the `configuration.ipynb` notebook so that your ML workspace information is saved in the config file."
      ]
    },
    {
      "cell_type": "code",
      "execution_count": 1,
      "metadata": {},
      "outputs": [],
      "source": [
        "import os\n",
        "import pandas as pd\n",
        "import numpy as np\n",
        "import logging\n",
        "import warnings\n",
        "\n",
        "from azureml.core.dataset import Dataset\n",
        "from pandas.tseries.frequencies import to_offset\n",
        "from azureml.core.compute import AmlCompute\n",
        "from azureml.core.compute import ComputeTarget\n",
        "from azureml.core.runconfig import RunConfiguration\n",
        "from azureml.core.conda_dependencies import CondaDependencies\n",
        "\n",
        "# Squash warning messages for cleaner output in the notebook\n",
        "warnings.showwarning = lambda *args, **kwargs: None\n",
        "\n",
        "np.set_printoptions(precision=4, suppress=True, linewidth=120)"
      ]
    },
    {
      "cell_type": "code",
      "execution_count": 2,
      "metadata": {},
      "outputs": [
        {
          "name": "stderr",
          "output_type": "stream",
          "text": "WARNING - Warning: Falling back to use azure cli login credentials.\nIf you run your code in unattended mode, i.e., where you can't give a user input, then we recommend to use ServicePrincipalAuthentication or MsiAuthentication.\nPlease refer to aka.ms/aml-notebook-auth for different authentication mechanisms in azureml-sdk.\n"
        },
        {
          "data": {
            "text/html": "<div>\n<style scoped>\n    .dataframe tbody tr th:only-of-type {\n        vertical-align: middle;\n    }\n\n    .dataframe tbody tr th {\n        vertical-align: top;\n    }\n\n    .dataframe thead th {\n        text-align: right;\n    }\n</style>\n<table border=\"1\" class=\"dataframe\">\n  <thead>\n    <tr style=\"text-align: right;\">\n      <th></th>\n      <th></th>\n    </tr>\n  </thead>\n  <tbody>\n    <tr>\n      <th>SDK version</th>\n      <td>1.0.85</td>\n    </tr>\n    <tr>\n      <th>Subscription ID</th>\n      <td>1a653f13-bee2-4093-8c1b-97dddb149720</td>\n    </tr>\n    <tr>\n      <th>Workspace</th>\n      <td>ML_20200125</td>\n    </tr>\n    <tr>\n      <th>SKU</th>\n      <td>Enterprise</td>\n    </tr>\n    <tr>\n      <th>Resource Group</th>\n      <td>autoML</td>\n    </tr>\n    <tr>\n      <th>Location</th>\n      <td>eastus2</td>\n    </tr>\n    <tr>\n      <th>Run History Name</th>\n      <td>automl-forecast-function-demo</td>\n    </tr>\n  </tbody>\n</table>\n</div>",
            "text/plain": "                                                      \nSDK version                                     1.0.85\nSubscription ID   1a653f13-bee2-4093-8c1b-97dddb149720\nWorkspace                                  ML_20200125\nSKU                                         Enterprise\nResource Group                                  autoML\nLocation                                       eastus2\nRun History Name         automl-forecast-function-demo"
          },
          "execution_count": 2,
          "metadata": {},
          "output_type": "execute_result"
        }
      ],
      "source": [
        "import azureml.core\n",
        "from azureml.core.workspace import Workspace\n",
        "from azureml.core.experiment import Experiment\n",
        "from azureml.train.automl import AutoMLConfig\n",
        "\n",
        "ws = Workspace.from_config()\n",
        "\n",
        "# choose a name for the run history container in the workspace\n",
        "experiment_name = 'automl-forecast-function-demo'\n",
        "\n",
        "experiment = Experiment(ws, experiment_name)\n",
        "\n",
        "output = {}\n",
        "output['SDK version'] = azureml.core.VERSION\n",
        "output['Subscription ID'] = ws.subscription_id\n",
        "output['Workspace'] = ws.name\n",
        "output['SKU'] = ws.sku\n",
        "output['Resource Group'] = ws.resource_group\n",
        "output['Location'] = ws.location\n",
        "output['Run History Name'] = experiment_name\n",
        "pd.set_option('display.max_colwidth', 50)\n",
        "outputDf = pd.DataFrame(data = output, index = [''])\n",
        "outputDf.T"
      ]
    },
    {
      "cell_type": "markdown",
      "execution_count": null,
      "metadata": {},
      "outputs": [],
      "source": [
        "## Data\n",
        "For the demonstration purposes we will generate the data artificially and use them for the forecasting."
      ]
    },
    {
      "cell_type": "code",
      "execution_count": 3,
      "metadata": {},
      "outputs": [],
      "source": [
        "TIME_COLUMN_NAME = 'date'\n",
        "GRAIN_COLUMN_NAME = 'grain'\n",
        "TARGET_COLUMN_NAME = 'y'\n",
        "\n",
        "def get_timeseries(train_len: int,\n",
        "                   test_len: int,\n",
        "                   time_column_name: str,\n",
        "                   target_column_name: str,\n",
        "                   grain_column_name: str,\n",
        "                   grains: int = 1,\n",
        "                   freq: str = 'H'):\n",
        "    \"\"\"\n",
        "    Return the time series of designed length.\n",
        "\n",
        "    :param train_len: The length of training data (one series).\n",
        "    :type train_len: int\n",
        "    :param test_len: The length of testing data (one series).\n",
        "    :type test_len: int\n",
        "    :param time_column_name: The desired name of a time column.\n",
        "    :type time_column_name: str\n",
        "    :param\n",
        "    :param grains: The number of grains.\n",
        "    :type grains: int\n",
        "    :param freq: The frequency string representing pandas offset.\n",
        "                 see https://pandas.pydata.org/pandas-docs/stable/user_guide/timeseries.html\n",
        "    :type freq: str\n",
        "    :returns: the tuple of train and test data sets.\n",
        "    :rtype: tuple\n",
        "\n",
        "    \"\"\"\n",
        "    data_train = []  # type: List[pd.DataFrame]\n",
        "    data_test = []  # type: List[pd.DataFrame]\n",
        "    data_length = train_len + test_len\n",
        "    for i in range(grains):\n",
        "        X = pd.DataFrame({\n",
        "            time_column_name: pd.date_range(start='2000-01-01',\n",
        "                                            periods=data_length,\n",
        "                                            freq=freq),\n",
        "            target_column_name: np.arange(data_length).astype(float) + np.random.rand(data_length) + i*5,\n",
        "            'ext_predictor': np.asarray(range(42, 42 + data_length)),\n",
        "            grain_column_name: np.repeat('g{}'.format(i), data_length)\n",
        "        })\n",
        "        data_train.append(X[:train_len])\n",
        "        data_test.append(X[train_len:])\n",
        "    X_train = pd.concat(data_train)\n",
        "    y_train = X_train.pop(target_column_name).values\n",
        "    X_test = pd.concat(data_test)\n",
        "    y_test = X_test.pop(target_column_name).values\n",
        "    return X_train, y_train, X_test, y_test\n",
        "\n",
        "n_test_periods = 6\n",
        "n_train_periods = 30\n",
        "X_train, y_train, X_test, y_test = get_timeseries(train_len=n_train_periods,\n",
        "                                                  test_len=n_test_periods,\n",
        "                                                  time_column_name=TIME_COLUMN_NAME,\n",
        "                                                  target_column_name=TARGET_COLUMN_NAME,\n",
        "                                                  grain_column_name=GRAIN_COLUMN_NAME,\n",
        "                                                  grains=2)"
      ]
    },
    {
      "cell_type": "markdown",
      "execution_count": null,
      "metadata": {},
      "outputs": [],
      "source": [
        "Let's see what the training data looks like."
      ]
    },
    {
      "cell_type": "code",
      "execution_count": 4,
      "metadata": {},
      "outputs": [
        {
          "data": {
            "text/html": "<div>\n<style scoped>\n    .dataframe tbody tr th:only-of-type {\n        vertical-align: middle;\n    }\n\n    .dataframe tbody tr th {\n        vertical-align: top;\n    }\n\n    .dataframe thead th {\n        text-align: right;\n    }\n</style>\n<table border=\"1\" class=\"dataframe\">\n  <thead>\n    <tr style=\"text-align: right;\">\n      <th></th>\n      <th>date</th>\n      <th>ext_predictor</th>\n      <th>grain</th>\n    </tr>\n  </thead>\n  <tbody>\n    <tr>\n      <th>25</th>\n      <td>2000-01-02 01:00:00</td>\n      <td>67</td>\n      <td>g1</td>\n    </tr>\n    <tr>\n      <th>26</th>\n      <td>2000-01-02 02:00:00</td>\n      <td>68</td>\n      <td>g1</td>\n    </tr>\n    <tr>\n      <th>27</th>\n      <td>2000-01-02 03:00:00</td>\n      <td>69</td>\n      <td>g1</td>\n    </tr>\n    <tr>\n      <th>28</th>\n      <td>2000-01-02 04:00:00</td>\n      <td>70</td>\n      <td>g1</td>\n    </tr>\n    <tr>\n      <th>29</th>\n      <td>2000-01-02 05:00:00</td>\n      <td>71</td>\n      <td>g1</td>\n    </tr>\n  </tbody>\n</table>\n</div>",
            "text/plain": "                  date  ext_predictor grain\n25 2000-01-02 01:00:00             67    g1\n26 2000-01-02 02:00:00             68    g1\n27 2000-01-02 03:00:00             69    g1\n28 2000-01-02 04:00:00             70    g1\n29 2000-01-02 05:00:00             71    g1"
          },
          "execution_count": 4,
          "metadata": {},
          "output_type": "execute_result"
        }
      ],
      "source": [
        "X_train.tail()"
      ]
    },
    {
      "cell_type": "code",
      "execution_count": 5,
      "metadata": {},
      "outputs": [
        {
          "data": {
            "image/png": "[encoded data removed]",
            "image/svg+xml": "<?xml version=\"1.0\" encoding=\"utf-8\" standalone=\"no\"?>\r\n<!DOCTYPE svg PUBLIC \"-//W3C//DTD SVG 1.1//EN\"\r\n  \"http://www.w3.org/Graphics/SVG/1.1/DTD/svg11.dtd\">\r\n<!-- Created with matplotlib (https://matplotlib.org/) -->\r\n<svg height=\"248.518125pt\" version=\"1.1\" viewBox=\"0 0 386.682585 248.518125\" width=\"386.682585pt\" xmlns=\"http://www.w3.org/2000/svg\" xmlns:xlink=\"http://www.w3.org/1999/xlink\">\r\n <defs>\r\n  <style type=\"text/css\">\r\n*{stroke-linecap:butt;stroke-linejoin:round;}\r\n  </style>\r\n </defs>\r\n <g id=\"figure_1\">\r\n  <g id=\"patch_1\">\r\n   <path d=\"M -0 248.518125 \r\nL 386.682585 248.518125 \r\nL 386.682585 0 \r\nL -0 0 \r\nz\r\n\" style=\"fill:none;\"/>\r\n  </g>\r\n  <g id=\"axes_1\">\r\n   <g id=\"patch_2\">\r\n    <path d=\"M 26.925 224.64 \r\nL 361.725 224.64 \r\nL 361.725 7.2 \r\nL 26.925 7.2 \r\nz\r\n\" style=\"fill:#ffffff;\"/>\r\n   </g>\r\n   <g id=\"matplotlib.axis_1\">\r\n    <g id=\"xtick_1\">\r\n     <g id=\"line2d_1\">\r\n      <defs>\r\n       <path d=\"M 0 0 \r\nL 0 3.5 \r\n\" id=\"m064067fefe\" style=\"stroke:#000000;stroke-width:0.8;\"/>\r\n      </defs>\r\n      <g>\r\n       <use style=\"stroke:#000000;stroke-width:0.8;\" x=\"42.143182\" xlink:href=\"#m064067fefe\" y=\"224.64\"/>\r\n      </g>\r\n     </g>\r\n     <g id=\"text_1\">\r\n      <!-- 01-01 00 -->\r\n      <defs>\r\n       <path d=\"M 31.78125 66.40625 \r\nQ 24.171875 66.40625 20.328125 58.90625 \r\nQ 16.5 51.421875 16.5 36.375 \r\nQ 16.5 21.390625 20.328125 13.890625 \r\nQ 24.171875 6.390625 31.78125 6.390625 \r\nQ 39.453125 6.390625 43.28125 13.890625 \r\nQ 47.125 21.390625 47.125 36.375 \r\nQ 47.125 51.421875 43.28125 58.90625 \r\nQ 39.453125 66.40625 31.78125 66.40625 \r\nz\r\nM 31.78125 74.21875 \r\nQ 44.046875 74.21875 50.515625 64.515625 \r\nQ 56.984375 54.828125 56.984375 36.375 \r\nQ 56.984375 17.96875 50.515625 8.265625 \r\nQ 44.046875 -1.421875 31.78125 -1.421875 \r\nQ 19.53125 -1.421875 13.0625 8.265625 \r\nQ 6.59375 17.96875 6.59375 36.375 \r\nQ 6.59375 54.828125 13.0625 64.515625 \r\nQ 19.53125 74.21875 31.78125 74.21875 \r\nz\r\n\" id=\"DejaVuSans-48\"/>\r\n       <path d=\"M 12.40625 8.296875 \r\nL 28.515625 8.296875 \r\nL 28.515625 63.921875 \r\nL 10.984375 60.40625 \r\nL 10.984375 69.390625 \r\nL 28.421875 72.90625 \r\nL 38.28125 72.90625 \r\nL 38.28125 8.296875 \r\nL 54.390625 8.296875 \r\nL 54.390625 0 \r\nL 12.40625 0 \r\nz\r\n\" id=\"DejaVuSans-49\"/>\r\n       <path d=\"M 4.890625 31.390625 \r\nL 31.203125 31.390625 \r\nL 31.203125 23.390625 \r\nL 4.890625 23.390625 \r\nz\r\n\" id=\"DejaVuSans-45\"/>\r\n       <path id=\"DejaVuSans-32\"/>\r\n      </defs>\r\n      <g transform=\"translate(19.662713 239.238437)scale(0.1 -0.1)\">\r\n       <use xlink:href=\"#DejaVuSans-48\"/>\r\n       <use x=\"63.623047\" xlink:href=\"#DejaVuSans-49\"/>\r\n       <use x=\"127.246094\" xlink:href=\"#DejaVuSans-45\"/>\r\n       <use x=\"163.330078\" xlink:href=\"#DejaVuSans-48\"/>\r\n       <use x=\"226.953125\" xlink:href=\"#DejaVuSans-49\"/>\r\n       <use x=\"290.576172\" xlink:href=\"#DejaVuSans-32\"/>\r\n       <use x=\"322.363281\" xlink:href=\"#DejaVuSans-48\"/>\r\n       <use x=\"385.986328\" xlink:href=\"#DejaVuSans-48\"/>\r\n      </g>\r\n     </g>\r\n    </g>\r\n    <g id=\"xtick_2\">\r\n     <g id=\"line2d_2\">\r\n      <g>\r\n       <use style=\"stroke:#000000;stroke-width:0.8;\" x=\"73.629075\" xlink:href=\"#m064067fefe\" y=\"224.64\"/>\r\n      </g>\r\n     </g>\r\n     <g id=\"text_2\">\r\n      <!-- 01-01 03 -->\r\n      <defs>\r\n       <path d=\"M 40.578125 39.3125 \r\nQ 47.65625 37.796875 51.625 33 \r\nQ 55.609375 28.21875 55.609375 21.1875 \r\nQ 55.609375 10.40625 48.1875 4.484375 \r\nQ 40.765625 -1.421875 27.09375 -1.421875 \r\nQ 22.515625 -1.421875 17.65625 -0.515625 \r\nQ 12.796875 0.390625 7.625 2.203125 \r\nL 7.625 11.71875 \r\nQ 11.71875 9.328125 16.59375 8.109375 \r\nQ 21.484375 6.890625 26.8125 6.890625 \r\nQ 36.078125 6.890625 40.9375 10.546875 \r\nQ 45.796875 14.203125 45.796875 21.1875 \r\nQ 45.796875 27.640625 41.28125 31.265625 \r\nQ 36.765625 34.90625 28.71875 34.90625 \r\nL 20.21875 34.90625 \r\nL 20.21875 43.015625 \r\nL 29.109375 43.015625 \r\nQ 36.375 43.015625 40.234375 45.921875 \r\nQ 44.09375 48.828125 44.09375 54.296875 \r\nQ 44.09375 59.90625 40.109375 62.90625 \r\nQ 36.140625 65.921875 28.71875 65.921875 \r\nQ 24.65625 65.921875 20.015625 65.03125 \r\nQ 15.375 64.15625 9.8125 62.3125 \r\nL 9.8125 71.09375 \r\nQ 15.4375 72.65625 20.34375 73.4375 \r\nQ 25.25 74.21875 29.59375 74.21875 \r\nQ 40.828125 74.21875 47.359375 69.109375 \r\nQ 53.90625 64.015625 53.90625 55.328125 \r\nQ 53.90625 49.265625 50.4375 45.09375 \r\nQ 46.96875 40.921875 40.578125 39.3125 \r\nz\r\n\" id=\"DejaVuSans-51\"/>\r\n      </defs>\r\n      <g transform=\"translate(51.148606 239.238437)scale(0.1 -0.1)\">\r\n       <use xlink:href=\"#DejaVuSans-48\"/>\r\n       <use x=\"63.623047\" xlink:href=\"#DejaVuSans-49\"/>\r\n       <use x=\"127.246094\" xlink:href=\"#DejaVuSans-45\"/>\r\n       <use x=\"163.330078\" xlink:href=\"#DejaVuSans-48\"/>\r\n       <use x=\"226.953125\" xlink:href=\"#DejaVuSans-49\"/>\r\n       <use x=\"290.576172\" xlink:href=\"#DejaVuSans-32\"/>\r\n       <use x=\"322.363281\" xlink:href=\"#DejaVuSans-48\"/>\r\n       <use x=\"385.986328\" xlink:href=\"#DejaVuSans-51\"/>\r\n      </g>\r\n     </g>\r\n    </g>\r\n    <g id=\"xtick_3\">\r\n     <g id=\"line2d_3\">\r\n      <g>\r\n       <use style=\"stroke:#000000;stroke-width:0.8;\" x=\"105.114969\" xlink:href=\"#m064067fefe\" y=\"224.64\"/>\r\n      </g>\r\n     </g>\r\n     <g id=\"text_3\">\r\n      <!-- 01-01 06 -->\r\n      <defs>\r\n       <path d=\"M 33.015625 40.375 \r\nQ 26.375 40.375 22.484375 35.828125 \r\nQ 18.609375 31.296875 18.609375 23.390625 \r\nQ 18.609375 15.53125 22.484375 10.953125 \r\nQ 26.375 6.390625 33.015625 6.390625 \r\nQ 39.65625 6.390625 43.53125 10.953125 \r\nQ 47.40625 15.53125 47.40625 23.390625 \r\nQ 47.40625 31.296875 43.53125 35.828125 \r\nQ 39.65625 40.375 33.015625 40.375 \r\nz\r\nM 52.59375 71.296875 \r\nL 52.59375 62.3125 \r\nQ 48.875 64.0625 45.09375 64.984375 \r\nQ 41.3125 65.921875 37.59375 65.921875 \r\nQ 27.828125 65.921875 22.671875 59.328125 \r\nQ 17.53125 52.734375 16.796875 39.40625 \r\nQ 19.671875 43.65625 24.015625 45.921875 \r\nQ 28.375 48.1875 33.59375 48.1875 \r\nQ 44.578125 48.1875 50.953125 41.515625 \r\nQ 57.328125 34.859375 57.328125 23.390625 \r\nQ 57.328125 12.15625 50.6875 5.359375 \r\nQ 44.046875 -1.421875 33.015625 -1.421875 \r\nQ 20.359375 -1.421875 13.671875 8.265625 \r\nQ 6.984375 17.96875 6.984375 36.375 \r\nQ 6.984375 53.65625 15.1875 63.9375 \r\nQ 23.390625 74.21875 37.203125 74.21875 \r\nQ 40.921875 74.21875 44.703125 73.484375 \r\nQ 48.484375 72.75 52.59375 71.296875 \r\nz\r\n\" id=\"DejaVuSans-54\"/>\r\n      </defs>\r\n      <g transform=\"translate(82.6345 239.238437)scale(0.1 -0.1)\">\r\n       <use xlink:href=\"#DejaVuSans-48\"/>\r\n       <use x=\"63.623047\" xlink:href=\"#DejaVuSans-49\"/>\r\n       <use x=\"127.246094\" xlink:href=\"#DejaVuSans-45\"/>\r\n       <use x=\"163.330078\" xlink:href=\"#DejaVuSans-48\"/>\r\n       <use x=\"226.953125\" xlink:href=\"#DejaVuSans-49\"/>\r\n       <use x=\"290.576172\" xlink:href=\"#DejaVuSans-32\"/>\r\n       <use x=\"322.363281\" xlink:href=\"#DejaVuSans-48\"/>\r\n       <use x=\"385.986328\" xlink:href=\"#DejaVuSans-54\"/>\r\n      </g>\r\n     </g>\r\n    </g>\r\n    <g id=\"xtick_4\">\r\n     <g id=\"line2d_4\">\r\n      <g>\r\n       <use style=\"stroke:#000000;stroke-width:0.8;\" x=\"136.600862\" xlink:href=\"#m064067fefe\" y=\"224.64\"/>\r\n      </g>\r\n     </g>\r\n     <g id=\"text_4\">\r\n      <!-- 01-01 09 -->\r\n      <defs>\r\n       <path d=\"M 10.984375 1.515625 \r\nL 10.984375 10.5 \r\nQ 14.703125 8.734375 18.5 7.8125 \r\nQ 22.3125 6.890625 25.984375 6.890625 \r\nQ 35.75 6.890625 40.890625 13.453125 \r\nQ 46.046875 20.015625 46.78125 33.40625 \r\nQ 43.953125 29.203125 39.59375 26.953125 \r\nQ 35.25 24.703125 29.984375 24.703125 \r\nQ 19.046875 24.703125 12.671875 31.3125 \r\nQ 6.296875 37.9375 6.296875 49.421875 \r\nQ 6.296875 60.640625 12.9375 67.421875 \r\nQ 19.578125 74.21875 30.609375 74.21875 \r\nQ 43.265625 74.21875 49.921875 64.515625 \r\nQ 56.59375 54.828125 56.59375 36.375 \r\nQ 56.59375 19.140625 48.40625 8.859375 \r\nQ 40.234375 -1.421875 26.421875 -1.421875 \r\nQ 22.703125 -1.421875 18.890625 -0.6875 \r\nQ 15.09375 0.046875 10.984375 1.515625 \r\nz\r\nM 30.609375 32.421875 \r\nQ 37.25 32.421875 41.125 36.953125 \r\nQ 45.015625 41.5 45.015625 49.421875 \r\nQ 45.015625 57.28125 41.125 61.84375 \r\nQ 37.25 66.40625 30.609375 66.40625 \r\nQ 23.96875 66.40625 20.09375 61.84375 \r\nQ 16.21875 57.28125 16.21875 49.421875 \r\nQ 16.21875 41.5 20.09375 36.953125 \r\nQ 23.96875 32.421875 30.609375 32.421875 \r\nz\r\n\" id=\"DejaVuSans-57\"/>\r\n      </defs>\r\n      <g transform=\"translate(114.120393 239.238437)scale(0.1 -0.1)\">\r\n       <use xlink:href=\"#DejaVuSans-48\"/>\r\n       <use x=\"63.623047\" xlink:href=\"#DejaVuSans-49\"/>\r\n       <use x=\"127.246094\" xlink:href=\"#DejaVuSans-45\"/>\r\n       <use x=\"163.330078\" xlink:href=\"#DejaVuSans-48\"/>\r\n       <use x=\"226.953125\" xlink:href=\"#DejaVuSans-49\"/>\r\n       <use x=\"290.576172\" xlink:href=\"#DejaVuSans-32\"/>\r\n       <use x=\"322.363281\" xlink:href=\"#DejaVuSans-48\"/>\r\n       <use x=\"385.986328\" xlink:href=\"#DejaVuSans-57\"/>\r\n      </g>\r\n     </g>\r\n    </g>\r\n    <g id=\"xtick_5\">\r\n     <g id=\"line2d_5\">\r\n      <g>\r\n       <use style=\"stroke:#000000;stroke-width:0.8;\" x=\"168.086755\" xlink:href=\"#m064067fefe\" y=\"224.64\"/>\r\n      </g>\r\n     </g>\r\n     <g id=\"text_5\">\r\n      <!-- 01-01 12 -->\r\n      <defs>\r\n       <path d=\"M 19.1875 8.296875 \r\nL 53.609375 8.296875 \r\nL 53.609375 0 \r\nL 7.328125 0 \r\nL 7.328125 8.296875 \r\nQ 12.9375 14.109375 22.625 23.890625 \r\nQ 32.328125 33.6875 34.8125 36.53125 \r\nQ 39.546875 41.84375 41.421875 45.53125 \r\nQ 43.3125 49.21875 43.3125 52.78125 \r\nQ 43.3125 58.59375 39.234375 62.25 \r\nQ 35.15625 65.921875 28.609375 65.921875 \r\nQ 23.96875 65.921875 18.8125 64.3125 \r\nQ 13.671875 62.703125 7.8125 59.421875 \r\nL 7.8125 69.390625 \r\nQ 13.765625 71.78125 18.9375 73 \r\nQ 24.125 74.21875 28.421875 74.21875 \r\nQ 39.75 74.21875 46.484375 68.546875 \r\nQ 53.21875 62.890625 53.21875 53.421875 \r\nQ 53.21875 48.921875 51.53125 44.890625 \r\nQ 49.859375 40.875 45.40625 35.40625 \r\nQ 44.1875 33.984375 37.640625 27.21875 \r\nQ 31.109375 20.453125 19.1875 8.296875 \r\nz\r\n\" id=\"DejaVuSans-50\"/>\r\n      </defs>\r\n      <g transform=\"translate(145.606287 239.238437)scale(0.1 -0.1)\">\r\n       <use xlink:href=\"#DejaVuSans-48\"/>\r\n       <use x=\"63.623047\" xlink:href=\"#DejaVuSans-49\"/>\r\n       <use x=\"127.246094\" xlink:href=\"#DejaVuSans-45\"/>\r\n       <use x=\"163.330078\" xlink:href=\"#DejaVuSans-48\"/>\r\n       <use x=\"226.953125\" xlink:href=\"#DejaVuSans-49\"/>\r\n       <use x=\"290.576172\" xlink:href=\"#DejaVuSans-32\"/>\r\n       <use x=\"322.363281\" xlink:href=\"#DejaVuSans-49\"/>\r\n       <use x=\"385.986328\" xlink:href=\"#DejaVuSans-50\"/>\r\n      </g>\r\n     </g>\r\n    </g>\r\n    <g id=\"xtick_6\">\r\n     <g id=\"line2d_6\">\r\n      <g>\r\n       <use style=\"stroke:#000000;stroke-width:0.8;\" x=\"199.572649\" xlink:href=\"#m064067fefe\" y=\"224.64\"/>\r\n      </g>\r\n     </g>\r\n     <g id=\"text_6\">\r\n      <!-- 01-01 15 -->\r\n      <defs>\r\n       <path d=\"M 10.796875 72.90625 \r\nL 49.515625 72.90625 \r\nL 49.515625 64.59375 \r\nL 19.828125 64.59375 \r\nL 19.828125 46.734375 \r\nQ 21.96875 47.46875 24.109375 47.828125 \r\nQ 26.265625 48.1875 28.421875 48.1875 \r\nQ 40.625 48.1875 47.75 41.5 \r\nQ 54.890625 34.8125 54.890625 23.390625 \r\nQ 54.890625 11.625 47.5625 5.09375 \r\nQ 40.234375 -1.421875 26.90625 -1.421875 \r\nQ 22.3125 -1.421875 17.546875 -0.640625 \r\nQ 12.796875 0.140625 7.71875 1.703125 \r\nL 7.71875 11.625 \r\nQ 12.109375 9.234375 16.796875 8.0625 \r\nQ 21.484375 6.890625 26.703125 6.890625 \r\nQ 35.15625 6.890625 40.078125 11.328125 \r\nQ 45.015625 15.765625 45.015625 23.390625 \r\nQ 45.015625 31 40.078125 35.4375 \r\nQ 35.15625 39.890625 26.703125 39.890625 \r\nQ 22.75 39.890625 18.8125 39.015625 \r\nQ 14.890625 38.140625 10.796875 36.28125 \r\nz\r\n\" id=\"DejaVuSans-53\"/>\r\n      </defs>\r\n      <g transform=\"translate(177.09218 239.238437)scale(0.1 -0.1)\">\r\n       <use xlink:href=\"#DejaVuSans-48\"/>\r\n       <use x=\"63.623047\" xlink:href=\"#DejaVuSans-49\"/>\r\n       <use x=\"127.246094\" xlink:href=\"#DejaVuSans-45\"/>\r\n       <use x=\"163.330078\" xlink:href=\"#DejaVuSans-48\"/>\r\n       <use x=\"226.953125\" xlink:href=\"#DejaVuSans-49\"/>\r\n       <use x=\"290.576172\" xlink:href=\"#DejaVuSans-32\"/>\r\n       <use x=\"322.363281\" xlink:href=\"#DejaVuSans-49\"/>\r\n       <use x=\"385.986328\" xlink:href=\"#DejaVuSans-53\"/>\r\n      </g>\r\n     </g>\r\n    </g>\r\n    <g id=\"xtick_7\">\r\n     <g id=\"line2d_7\">\r\n      <g>\r\n       <use style=\"stroke:#000000;stroke-width:0.8;\" x=\"231.058542\" xlink:href=\"#m064067fefe\" y=\"224.64\"/>\r\n      </g>\r\n     </g>\r\n     <g id=\"text_7\">\r\n      <!-- 01-01 18 -->\r\n      <defs>\r\n       <path d=\"M 31.78125 34.625 \r\nQ 24.75 34.625 20.71875 30.859375 \r\nQ 16.703125 27.09375 16.703125 20.515625 \r\nQ 16.703125 13.921875 20.71875 10.15625 \r\nQ 24.75 6.390625 31.78125 6.390625 \r\nQ 38.8125 6.390625 42.859375 10.171875 \r\nQ 46.921875 13.96875 46.921875 20.515625 \r\nQ 46.921875 27.09375 42.890625 30.859375 \r\nQ 38.875 34.625 31.78125 34.625 \r\nz\r\nM 21.921875 38.8125 \r\nQ 15.578125 40.375 12.03125 44.71875 \r\nQ 8.5 49.078125 8.5 55.328125 \r\nQ 8.5 64.0625 14.71875 69.140625 \r\nQ 20.953125 74.21875 31.78125 74.21875 \r\nQ 42.671875 74.21875 48.875 69.140625 \r\nQ 55.078125 64.0625 55.078125 55.328125 \r\nQ 55.078125 49.078125 51.53125 44.71875 \r\nQ 48 40.375 41.703125 38.8125 \r\nQ 48.828125 37.15625 52.796875 32.3125 \r\nQ 56.78125 27.484375 56.78125 20.515625 \r\nQ 56.78125 9.90625 50.3125 4.234375 \r\nQ 43.84375 -1.421875 31.78125 -1.421875 \r\nQ 19.734375 -1.421875 13.25 4.234375 \r\nQ 6.78125 9.90625 6.78125 20.515625 \r\nQ 6.78125 27.484375 10.78125 32.3125 \r\nQ 14.796875 37.15625 21.921875 38.8125 \r\nz\r\nM 18.3125 54.390625 \r\nQ 18.3125 48.734375 21.84375 45.5625 \r\nQ 25.390625 42.390625 31.78125 42.390625 \r\nQ 38.140625 42.390625 41.71875 45.5625 \r\nQ 45.3125 48.734375 45.3125 54.390625 \r\nQ 45.3125 60.0625 41.71875 63.234375 \r\nQ 38.140625 66.40625 31.78125 66.40625 \r\nQ 25.390625 66.40625 21.84375 63.234375 \r\nQ 18.3125 60.0625 18.3125 54.390625 \r\nz\r\n\" id=\"DejaVuSans-56\"/>\r\n      </defs>\r\n      <g transform=\"translate(208.578074 239.238437)scale(0.1 -0.1)\">\r\n       <use xlink:href=\"#DejaVuSans-48\"/>\r\n       <use x=\"63.623047\" xlink:href=\"#DejaVuSans-49\"/>\r\n       <use x=\"127.246094\" xlink:href=\"#DejaVuSans-45\"/>\r\n       <use x=\"163.330078\" xlink:href=\"#DejaVuSans-48\"/>\r\n       <use x=\"226.953125\" xlink:href=\"#DejaVuSans-49\"/>\r\n       <use x=\"290.576172\" xlink:href=\"#DejaVuSans-32\"/>\r\n       <use x=\"322.363281\" xlink:href=\"#DejaVuSans-49\"/>\r\n       <use x=\"385.986328\" xlink:href=\"#DejaVuSans-56\"/>\r\n      </g>\r\n     </g>\r\n    </g>\r\n    <g id=\"xtick_8\">\r\n     <g id=\"line2d_8\">\r\n      <g>\r\n       <use style=\"stroke:#000000;stroke-width:0.8;\" x=\"262.544436\" xlink:href=\"#m064067fefe\" y=\"224.64\"/>\r\n      </g>\r\n     </g>\r\n     <g id=\"text_8\">\r\n      <!-- 01-01 21 -->\r\n      <g transform=\"translate(240.063967 239.238437)scale(0.1 -0.1)\">\r\n       <use xlink:href=\"#DejaVuSans-48\"/>\r\n       <use x=\"63.623047\" xlink:href=\"#DejaVuSans-49\"/>\r\n       <use x=\"127.246094\" xlink:href=\"#DejaVuSans-45\"/>\r\n       <use x=\"163.330078\" xlink:href=\"#DejaVuSans-48\"/>\r\n       <use x=\"226.953125\" xlink:href=\"#DejaVuSans-49\"/>\r\n       <use x=\"290.576172\" xlink:href=\"#DejaVuSans-32\"/>\r\n       <use x=\"322.363281\" xlink:href=\"#DejaVuSans-50\"/>\r\n       <use x=\"385.986328\" xlink:href=\"#DejaVuSans-49\"/>\r\n      </g>\r\n     </g>\r\n    </g>\r\n    <g id=\"xtick_9\">\r\n     <g id=\"line2d_9\">\r\n      <g>\r\n       <use style=\"stroke:#000000;stroke-width:0.8;\" x=\"294.030329\" xlink:href=\"#m064067fefe\" y=\"224.64\"/>\r\n      </g>\r\n     </g>\r\n     <g id=\"text_9\">\r\n      <!-- 01-02 00 -->\r\n      <g transform=\"translate(271.54986 239.238437)scale(0.1 -0.1)\">\r\n       <use xlink:href=\"#DejaVuSans-48\"/>\r\n       <use x=\"63.623047\" xlink:href=\"#DejaVuSans-49\"/>\r\n       <use x=\"127.246094\" xlink:href=\"#DejaVuSans-45\"/>\r\n       <use x=\"163.330078\" xlink:href=\"#DejaVuSans-48\"/>\r\n       <use x=\"226.953125\" xlink:href=\"#DejaVuSans-50\"/>\r\n       <use x=\"290.576172\" xlink:href=\"#DejaVuSans-32\"/>\r\n       <use x=\"322.363281\" xlink:href=\"#DejaVuSans-48\"/>\r\n       <use x=\"385.986328\" xlink:href=\"#DejaVuSans-48\"/>\r\n      </g>\r\n     </g>\r\n    </g>\r\n    <g id=\"xtick_10\">\r\n     <g id=\"line2d_10\">\r\n      <g>\r\n       <use style=\"stroke:#000000;stroke-width:0.8;\" x=\"325.516223\" xlink:href=\"#m064067fefe\" y=\"224.64\"/>\r\n      </g>\r\n     </g>\r\n     <g id=\"text_10\">\r\n      <!-- 01-02 03 -->\r\n      <g transform=\"translate(303.035754 239.238437)scale(0.1 -0.1)\">\r\n       <use xlink:href=\"#DejaVuSans-48\"/>\r\n       <use x=\"63.623047\" xlink:href=\"#DejaVuSans-49\"/>\r\n       <use x=\"127.246094\" xlink:href=\"#DejaVuSans-45\"/>\r\n       <use x=\"163.330078\" xlink:href=\"#DejaVuSans-48\"/>\r\n       <use x=\"226.953125\" xlink:href=\"#DejaVuSans-50\"/>\r\n       <use x=\"290.576172\" xlink:href=\"#DejaVuSans-32\"/>\r\n       <use x=\"322.363281\" xlink:href=\"#DejaVuSans-48\"/>\r\n       <use x=\"385.986328\" xlink:href=\"#DejaVuSans-51\"/>\r\n      </g>\r\n     </g>\r\n    </g>\r\n    <g id=\"xtick_11\">\r\n     <g id=\"line2d_11\">\r\n      <g>\r\n       <use style=\"stroke:#000000;stroke-width:0.8;\" x=\"357.002116\" xlink:href=\"#m064067fefe\" y=\"224.64\"/>\r\n      </g>\r\n     </g>\r\n     <g id=\"text_11\">\r\n      <!-- 01-02 06 -->\r\n      <g transform=\"translate(334.521647 239.238437)scale(0.1 -0.1)\">\r\n       <use xlink:href=\"#DejaVuSans-48\"/>\r\n       <use x=\"63.623047\" xlink:href=\"#DejaVuSans-49\"/>\r\n       <use x=\"127.246094\" xlink:href=\"#DejaVuSans-45\"/>\r\n       <use x=\"163.330078\" xlink:href=\"#DejaVuSans-48\"/>\r\n       <use x=\"226.953125\" xlink:href=\"#DejaVuSans-50\"/>\r\n       <use x=\"290.576172\" xlink:href=\"#DejaVuSans-32\"/>\r\n       <use x=\"322.363281\" xlink:href=\"#DejaVuSans-48\"/>\r\n       <use x=\"385.986328\" xlink:href=\"#DejaVuSans-54\"/>\r\n      </g>\r\n     </g>\r\n    </g>\r\n   </g>\r\n   <g id=\"matplotlib.axis_2\">\r\n    <g id=\"ytick_1\">\r\n     <g id=\"line2d_12\">\r\n      <defs>\r\n       <path d=\"M 0 0 \r\nL -3.5 0 \r\n\" id=\"m2e4cf90dd6\" style=\"stroke:#000000;stroke-width:0.8;\"/>\r\n      </defs>\r\n      <g>\r\n       <use style=\"stroke:#000000;stroke-width:0.8;\" x=\"26.925\" xlink:href=\"#m2e4cf90dd6\" y=\"218.717646\"/>\r\n      </g>\r\n     </g>\r\n     <g id=\"text_12\">\r\n      <!-- 0 -->\r\n      <g transform=\"translate(13.5625 222.516865)scale(0.1 -0.1)\">\r\n       <use xlink:href=\"#DejaVuSans-48\"/>\r\n      </g>\r\n     </g>\r\n    </g>\r\n    <g id=\"ytick_2\">\r\n     <g id=\"line2d_13\">\r\n      <g>\r\n       <use style=\"stroke:#000000;stroke-width:0.8;\" x=\"26.925\" xlink:href=\"#m2e4cf90dd6\" y=\"189.219469\"/>\r\n      </g>\r\n     </g>\r\n     <g id=\"text_13\">\r\n      <!-- 5 -->\r\n      <g transform=\"translate(13.5625 193.018687)scale(0.1 -0.1)\">\r\n       <use xlink:href=\"#DejaVuSans-53\"/>\r\n      </g>\r\n     </g>\r\n    </g>\r\n    <g id=\"ytick_3\">\r\n     <g id=\"line2d_14\">\r\n      <g>\r\n       <use style=\"stroke:#000000;stroke-width:0.8;\" x=\"26.925\" xlink:href=\"#m2e4cf90dd6\" y=\"159.721291\"/>\r\n      </g>\r\n     </g>\r\n     <g id=\"text_14\">\r\n      <!-- 10 -->\r\n      <g transform=\"translate(7.2 163.52051)scale(0.1 -0.1)\">\r\n       <use xlink:href=\"#DejaVuSans-49\"/>\r\n       <use x=\"63.623047\" xlink:href=\"#DejaVuSans-48\"/>\r\n      </g>\r\n     </g>\r\n    </g>\r\n    <g id=\"ytick_4\">\r\n     <g id=\"line2d_15\">\r\n      <g>\r\n       <use style=\"stroke:#000000;stroke-width:0.8;\" x=\"26.925\" xlink:href=\"#m2e4cf90dd6\" y=\"130.223113\"/>\r\n      </g>\r\n     </g>\r\n     <g id=\"text_15\">\r\n      <!-- 15 -->\r\n      <g transform=\"translate(7.2 134.022332)scale(0.1 -0.1)\">\r\n       <use xlink:href=\"#DejaVuSans-49\"/>\r\n       <use x=\"63.623047\" xlink:href=\"#DejaVuSans-53\"/>\r\n      </g>\r\n     </g>\r\n    </g>\r\n    <g id=\"ytick_5\">\r\n     <g id=\"line2d_16\">\r\n      <g>\r\n       <use style=\"stroke:#000000;stroke-width:0.8;\" x=\"26.925\" xlink:href=\"#m2e4cf90dd6\" y=\"100.724935\"/>\r\n      </g>\r\n     </g>\r\n     <g id=\"text_16\">\r\n      <!-- 20 -->\r\n      <g transform=\"translate(7.2 104.524154)scale(0.1 -0.1)\">\r\n       <use xlink:href=\"#DejaVuSans-50\"/>\r\n       <use x=\"63.623047\" xlink:href=\"#DejaVuSans-48\"/>\r\n      </g>\r\n     </g>\r\n    </g>\r\n    <g id=\"ytick_6\">\r\n     <g id=\"line2d_17\">\r\n      <g>\r\n       <use style=\"stroke:#000000;stroke-width:0.8;\" x=\"26.925\" xlink:href=\"#m2e4cf90dd6\" y=\"71.226758\"/>\r\n      </g>\r\n     </g>\r\n     <g id=\"text_17\">\r\n      <!-- 25 -->\r\n      <g transform=\"translate(7.2 75.025977)scale(0.1 -0.1)\">\r\n       <use xlink:href=\"#DejaVuSans-50\"/>\r\n       <use x=\"63.623047\" xlink:href=\"#DejaVuSans-53\"/>\r\n      </g>\r\n     </g>\r\n    </g>\r\n    <g id=\"ytick_7\">\r\n     <g id=\"line2d_18\">\r\n      <g>\r\n       <use style=\"stroke:#000000;stroke-width:0.8;\" x=\"26.925\" xlink:href=\"#m2e4cf90dd6\" y=\"41.72858\"/>\r\n      </g>\r\n     </g>\r\n     <g id=\"text_18\">\r\n      <!-- 30 -->\r\n      <g transform=\"translate(7.2 45.527799)scale(0.1 -0.1)\">\r\n       <use xlink:href=\"#DejaVuSans-51\"/>\r\n       <use x=\"63.623047\" xlink:href=\"#DejaVuSans-48\"/>\r\n      </g>\r\n     </g>\r\n    </g>\r\n    <g id=\"ytick_8\">\r\n     <g id=\"line2d_19\">\r\n      <g>\r\n       <use style=\"stroke:#000000;stroke-width:0.8;\" x=\"26.925\" xlink:href=\"#m2e4cf90dd6\" y=\"12.230402\"/>\r\n      </g>\r\n     </g>\r\n     <g id=\"text_19\">\r\n      <!-- 35 -->\r\n      <g transform=\"translate(7.2 16.029621)scale(0.1 -0.1)\">\r\n       <use xlink:href=\"#DejaVuSans-51\"/>\r\n       <use x=\"63.623047\" xlink:href=\"#DejaVuSans-53\"/>\r\n      </g>\r\n     </g>\r\n    </g>\r\n   </g>\r\n   <g id=\"line2d_20\">\r\n    <path clip-path=\"url(#p5f35ce7977)\" d=\"M 42.143182 214.756364 \r\nL 52.63848 208.48565 \r\nL 63.133777 201.689521 \r\nL 73.629075 195.886988 \r\nL 84.124373 193.714357 \r\nL 94.619671 187.847953 \r\nL 105.114969 177.424319 \r\nL 115.610266 173.341111 \r\nL 126.105564 169.106689 \r\nL 136.600862 160.643586 \r\nL 147.09616 157.881823 \r\nL 157.591458 148.402248 \r\nL 168.086755 146.238498 \r\nL 178.582053 140.57692 \r\nL 189.077351 134.382015 \r\nL 199.572649 127.80315 \r\nL 210.067947 119.620534 \r\nL 220.563245 114.972465 \r\nL 231.058542 108.534912 \r\nL 241.55384 102.860606 \r\nL 252.049138 98.270866 \r\nL 262.544436 93.375471 \r\nL 273.039734 86.444737 \r\nL 283.535031 82.779236 \r\nL 294.030329 73.830091 \r\nL 304.525627 67.004662 \r\nL 315.020925 64.188766 \r\nL 325.516223 57.824046 \r\nL 336.01152 53.096065 \r\nL 346.506818 46.008383 \r\n\" style=\"fill:none;stroke:#1f77b4;stroke-linecap:square;stroke-width:1.5;\"/>\r\n   </g>\r\n   <g id=\"line2d_21\">\r\n    <path clip-path=\"url(#p5f35ce7977)\" d=\"M 42.143182 184.36296 \r\nL 52.63848 179.995308 \r\nL 63.133777 172.716044 \r\nL 73.629075 167.586989 \r\nL 84.124373 160.687359 \r\nL 94.619671 159.46167 \r\nL 105.114969 150.509913 \r\nL 115.610266 145.712733 \r\nL 126.105564 137.514739 \r\nL 136.600862 131.707777 \r\nL 147.09616 125.731466 \r\nL 157.591458 120.888095 \r\nL 168.086755 117.967913 \r\nL 178.582053 106.681155 \r\nL 189.077351 100.946602 \r\nL 199.572649 98.518312 \r\nL 210.067947 94.736665 \r\nL 220.563245 87.175899 \r\nL 231.058542 78.674179 \r\nL 241.55384 74.316559 \r\nL 252.049138 70.778398 \r\nL 262.544436 60.796671 \r\nL 273.039734 57.285049 \r\nL 283.535031 52.366711 \r\nL 294.030329 46.345923 \r\nL 304.525627 41.187873 \r\nL 315.020925 33.306154 \r\nL 325.516223 25.112214 \r\nL 336.01152 21.552015 \r\nL 346.506818 17.083636 \r\n\" style=\"fill:none;stroke:#ff7f0e;stroke-linecap:square;stroke-width:1.5;\"/>\r\n   </g>\r\n   <g id=\"patch_3\">\r\n    <path d=\"M 26.925 224.64 \r\nL 26.925 7.2 \r\n\" style=\"fill:none;stroke:#000000;stroke-linecap:square;stroke-linejoin:miter;stroke-width:0.8;\"/>\r\n   </g>\r\n   <g id=\"patch_4\">\r\n    <path d=\"M 361.725 224.64 \r\nL 361.725 7.2 \r\n\" style=\"fill:none;stroke:#000000;stroke-linecap:square;stroke-linejoin:miter;stroke-width:0.8;\"/>\r\n   </g>\r\n   <g id=\"patch_5\">\r\n    <path d=\"M 26.925 224.64 \r\nL 361.725 224.64 \r\n\" style=\"fill:none;stroke:#000000;stroke-linecap:square;stroke-linejoin:miter;stroke-width:0.8;\"/>\r\n   </g>\r\n   <g id=\"patch_6\">\r\n    <path d=\"M 26.925 7.2 \r\nL 361.725 7.2 \r\n\" style=\"fill:none;stroke:#000000;stroke-linecap:square;stroke-linejoin:miter;stroke-width:0.8;\"/>\r\n   </g>\r\n   <g id=\"legend_1\">\r\n    <g id=\"patch_7\">\r\n     <path d=\"M 33.925 44.55625 \r\nL 78.635938 44.55625 \r\nQ 80.635938 44.55625 80.635938 42.55625 \r\nL 80.635938 14.2 \r\nQ 80.635938 12.2 78.635938 12.2 \r\nL 33.925 12.2 \r\nQ 31.925 12.2 31.925 14.2 \r\nL 31.925 42.55625 \r\nQ 31.925 44.55625 33.925 44.55625 \r\nz\r\n\" style=\"fill:#ffffff;opacity:0.8;stroke:#cccccc;stroke-linejoin:miter;\"/>\r\n    </g>\r\n    <g id=\"line2d_22\">\r\n     <path d=\"M 35.925 20.298437 \r\nL 55.925 20.298437 \r\n\" style=\"fill:none;stroke:#1f77b4;stroke-linecap:square;stroke-width:1.5;\"/>\r\n    </g>\r\n    <g id=\"line2d_23\"/>\r\n    <g id=\"text_20\">\r\n     <!-- g0 -->\r\n     <defs>\r\n      <path d=\"M 45.40625 27.984375 \r\nQ 45.40625 37.75 41.375 43.109375 \r\nQ 37.359375 48.484375 30.078125 48.484375 \r\nQ 22.859375 48.484375 18.828125 43.109375 \r\nQ 14.796875 37.75 14.796875 27.984375 \r\nQ 14.796875 18.265625 18.828125 12.890625 \r\nQ 22.859375 7.515625 30.078125 7.515625 \r\nQ 37.359375 7.515625 41.375 12.890625 \r\nQ 45.40625 18.265625 45.40625 27.984375 \r\nz\r\nM 54.390625 6.78125 \r\nQ 54.390625 -7.171875 48.1875 -13.984375 \r\nQ 42 -20.796875 29.203125 -20.796875 \r\nQ 24.46875 -20.796875 20.265625 -20.09375 \r\nQ 16.0625 -19.390625 12.109375 -17.921875 \r\nL 12.109375 -9.1875 \r\nQ 16.0625 -11.328125 19.921875 -12.34375 \r\nQ 23.78125 -13.375 27.78125 -13.375 \r\nQ 36.625 -13.375 41.015625 -8.765625 \r\nQ 45.40625 -4.15625 45.40625 5.171875 \r\nL 45.40625 9.625 \r\nQ 42.625 4.78125 38.28125 2.390625 \r\nQ 33.9375 0 27.875 0 \r\nQ 17.828125 0 11.671875 7.65625 \r\nQ 5.515625 15.328125 5.515625 27.984375 \r\nQ 5.515625 40.671875 11.671875 48.328125 \r\nQ 17.828125 56 27.875 56 \r\nQ 33.9375 56 38.28125 53.609375 \r\nQ 42.625 51.21875 45.40625 46.390625 \r\nL 45.40625 54.6875 \r\nL 54.390625 54.6875 \r\nz\r\n\" id=\"DejaVuSans-103\"/>\r\n     </defs>\r\n     <g transform=\"translate(63.925 23.798437)scale(0.1 -0.1)\">\r\n      <use xlink:href=\"#DejaVuSans-103\"/>\r\n      <use x=\"63.476562\" xlink:href=\"#DejaVuSans-48\"/>\r\n     </g>\r\n    </g>\r\n    <g id=\"line2d_24\">\r\n     <path d=\"M 35.925 34.976562 \r\nL 55.925 34.976562 \r\n\" style=\"fill:none;stroke:#ff7f0e;stroke-linecap:square;stroke-width:1.5;\"/>\r\n    </g>\r\n    <g id=\"line2d_25\"/>\r\n    <g id=\"text_21\">\r\n     <!-- g1 -->\r\n     <g transform=\"translate(63.925 38.476562)scale(0.1 -0.1)\">\r\n      <use xlink:href=\"#DejaVuSans-103\"/>\r\n      <use x=\"63.476562\" xlink:href=\"#DejaVuSans-49\"/>\r\n     </g>\r\n    </g>\r\n   </g>\r\n  </g>\r\n </g>\r\n <defs>\r\n  <clipPath id=\"p5f35ce7977\">\r\n   <rect height=\"217.44\" width=\"334.8\" x=\"26.925\" y=\"7.2\"/>\r\n  </clipPath>\r\n </defs>\r\n</svg>\r\n",
            "text/plain": "<Figure size 432x288 with 1 Axes>"
          },
          "metadata": {
            "needs_background": "light"
          },
          "output_type": "display_data"
        }
      ],
      "source": [
        "# plot the example time series\n",
        "import matplotlib.pyplot as plt\n",
        "whole_data = X_train.copy()\n",
        "target_label = 'y'\n",
        "whole_data[target_label] = y_train\n",
        "for g in whole_data.groupby('grain'):    \n",
        "    plt.plot(g[1]['date'].values, g[1]['y'].values, label=g[0])\n",
        "plt.legend()\n",
        "plt.show()"
      ]
    },
    {
      "cell_type": "markdown",
      "execution_count": null,
      "metadata": {},
      "outputs": [],
      "source": [
        "### Prepare remote compute and data. <a id=\"prepare_remote\"></a>\n",
        "The [Machine Learning service workspace](https://docs.microsoft.com/en-us/azure/machine-learning/service/concept-workspace), is paired with the storage account, which contains the default data store. We will use it to upload the artificial data and create [tabular dataset](https://docs.microsoft.com/en-us/python/api/azureml-core/azureml.data.tabulardataset?view=azure-ml-py) for training. A tabular dataset defines a series of lazily-evaluated, immutable operations to load data from the data source into tabular representation."
      ]
    },
    {
      "cell_type": "code",
      "execution_count": 6,
      "metadata": {},
      "outputs": [
        {
          "name": "stdout",
          "output_type": "stream",
          "text": "Uploading an estimated of 1 files\nUploading ./data\\data_train.csv\nUploaded ./data\\data_train.csv, 1 files out of an estimated total of 1\nUploaded 1 files\n"
        }
      ],
      "source": [
        "# We need to save thw artificial data and then upload them to default workspace datastore.\n",
        "DATA_PATH = \"fc_fn_data\"\n",
        "DATA_PATH_X = \"{}/data_train.csv\".format(DATA_PATH)\n",
        "if not os.path.isdir('data'):\n",
        "    os.mkdir('data')\n",
        "pd.DataFrame(whole_data).to_csv(\"data/data_train.csv\", index=False)\n",
        "# Upload saved data to the default data store.\n",
        "ds = ws.get_default_datastore()\n",
        "ds.upload(src_dir='./data', target_path=DATA_PATH, overwrite=True, show_progress=True)\n",
        "train_data = Dataset.Tabular.from_delimited_files(path=ds.path(DATA_PATH_X))"
      ]
    },
    {
      "cell_type": "markdown",
      "execution_count": null,
      "metadata": {},
      "outputs": [],
      "source": [
        "You will need to create a [compute target](https://docs.microsoft.com/en-us/azure/machine-learning/service/how-to-set-up-training-targets#amlcompute) for your AutoML run. In this tutorial, you create AmlCompute as your training compute resource."
      ]
    },
    {
      "cell_type": "code",
      "execution_count": 7,
      "metadata": {},
      "outputs": [
        {
          "name": "stdout",
          "output_type": "stream",
          "text": "Found existing compute target.\nChecking cluster status...\nSucceeded\nAmlCompute wait for completion finished\n\nMinimum number of nodes requested have been provisioned\n"
        }
      ],
      "source": [
        "amlcompute_cluster_name = \"cpu-cluster-fcfn\"\n",
        "        \n",
        "found = False\n",
        "# Check if this compute target already exists in the workspace.\n",
        "cts = ws.compute_targets\n",
        "if amlcompute_cluster_name in cts and cts[amlcompute_cluster_name].type == 'AmlCompute':\n",
        "    found = True\n",
        "    print('Found existing compute target.')\n",
        "    compute_target = cts[amlcompute_cluster_name]\n",
        "\n",
        "if not found:\n",
        "    print('Creating a new compute target...')\n",
        "    provisioning_config = AmlCompute.provisioning_configuration(vm_size = \"STANDARD_D2_V2\", # for GPU, use \"STANDARD_NC6\"\n",
        "                                                                #vm_priority = 'lowpriority', # optional\n",
        "                                                                max_nodes = 6)\n",
        "\n",
        "    # Create the cluster.\\n\",\n",
        "    compute_target = ComputeTarget.create(ws, amlcompute_cluster_name, provisioning_config)\n",
        "\n",
        "print('Checking cluster status...')\n",
        "# Can poll for a minimum number of nodes and for a specific timeout.\n",
        "# If no min_node_count is provided, it will use the scale settings for the cluster.\n",
        "compute_target.wait_for_completion(show_output = True, min_node_count = None, timeout_in_minutes = 20)"
      ]
    },
    {
      "cell_type": "markdown",
      "execution_count": null,
      "metadata": {},
      "outputs": [],
      "source": [
        "## Create the configuration and train a forecaster <a id=\"train\"></a>\n",
        "First generate the configuration, in which we:\n",
        "* Set metadata columns: target, time column and grain column names.\n",
        "* Validate our data using cross validation with rolling window method.\n",
        "* Set normalized root mean squared error as a metric to select the best model.\n",
        "* Set early termination to True, so the iterations through the models will stop when no improvements in accuracy score will be made.\n",
        "* Set limitations on the length of experiment run to 15 minutes.\n",
        "* Finally, we set the task to be forecasting.\n",
        "* We apply the lag lead operator to the target value i.e. we use the previous values as a predictor for the future ones."
      ]
    },
    {
      "cell_type": "code",
      "execution_count": 8,
      "metadata": {},
      "outputs": [],
      "source": [
        "lags = [1,2,3]\n",
        "max_horizon = n_test_periods\n",
        "time_series_settings = {    \n",
        "    'time_column_name': TIME_COLUMN_NAME,\n",
        "    'grain_column_names': [ GRAIN_COLUMN_NAME ],\n",
        "    'max_horizon': max_horizon,\n",
        "    'target_lags': lags\n",
        "}"
      ]
    },
    {
      "cell_type": "markdown",
      "execution_count": null,
      "metadata": {},
      "outputs": [],
      "source": [
        "Run the model selection and training process."
      ]
    },
    {
      "cell_type": "code",
      "execution_count": 9,
      "metadata": {},
      "outputs": [],
      "source": [
        "from azureml.core.workspace import Workspace\n",
        "from azureml.core.experiment import Experiment\n",
        "from azureml.train.automl import AutoMLConfig\n",
        "from azureml.widgets import RunDetails\n",
        "\n",
        "automl_config = AutoMLConfig(task='forecasting',\n",
        "                             debug_log='automl_forecasting_function.log',\n",
        "                             primary_metric='normalized_root_mean_squared_error',\n",
        "                             experiment_timeout_hours=0.25,\n",
        "                             enable_early_stopping=True,\n",
        "                             training_data=train_data,\n",
        "                             compute_target=compute_target,\n",
        "                             n_cross_validations=3,\n",
        "                             verbosity = logging.INFO,\n",
        "                             max_concurrent_iterations=4,\n",
        "                             max_cores_per_iteration=-1,\n",
        "                             label_column_name=target_label,\n",
        "                             **time_series_settings)"
      ]
    },
    {
      "cell_type": "code",
      "execution_count": 10,
      "metadata": {},
      "outputs": [
        {
          "data": {
            "application/vnd.jupyter.widget-view+json": {
              "model_id": "057416ee32334196ae6d6ec237a7e26f",
              "version_major": 2,
              "version_minor": 0
            },
            "text/plain": "_AutoMLWidget(widget_settings={'childWidgetDisplay': 'popup', 'send_telemetry': False, 'log_level': 'INFO', 's…"
          },
          "metadata": {},
          "output_type": "display_data"
        },
        {
          "data": {
            "application/aml.mini.widget.v1": "{\"loading\": true}"
          },
          "metadata": {},
          "output_type": "display_data"
        }
      ],
      "source": [
        "\n",
        "\n",
        "remote_run = experiment.submit(automl_config, show_output=False)\n",
        "remote_run.wait_for_completion()\n",
        "RunDetails(remote_run).show()\n",
        "\n"
      ]
    },
    {
      "cell_type": "code",
      "execution_count": null,
      "metadata": {},
      "outputs": [],
      "source": [
        "\n",
        "# Retrieve the best model to use it further.\n",
        "best_run, fitted_model = remote_run.get_output()"
      ]
    },
    {
      "cell_type": "code",
      "execution_count": null,
      "metadata": {},
      "outputs": [],
      "source": [
        "best_run, fitted_model = remote_run.get_output()"
      ]
    },
    {
      "cell_type": "markdown",
      "execution_count": null,
      "metadata": {},
      "outputs": [],
      "source": [
        "## Forecasting from the trained model <a id=\"forecasting\"></a>"
      ]
    },
    {
      "cell_type": "markdown",
      "execution_count": null,
      "metadata": {},
      "outputs": [],
      "source": [
        "In this section we will review the `forecast` interface for two main scenarios: forecasting right after the training data, and the more complex interface for forecasting when there is a gap (in the time sense) between training and testing data."
      ]
    },
    {
      "cell_type": "markdown",
      "execution_count": null,
      "metadata": {},
      "outputs": [],
      "source": [
        "### X_train is directly followed by the X_test\n",
        "\n",
        "Let's first consider the case when the prediction period immediately follows the training data. This is typical in scenarios where we have the time to retrain the model every time we wish to forecast. Forecasts that are made on daily and slower cadence typically fall into this category. Retraining the model every time benefits the accuracy because the most recent data is often the most informative.\n",
        "\n",
        "![Forecasting after training](forecast_function_at_train.png)\n",
        "\n",
        "We use `X_test` as a **forecast request** to generate the predictions."
      ]
    },
    {
      "cell_type": "markdown",
      "execution_count": null,
      "metadata": {},
      "outputs": [],
      "source": [
        "#### Typical path: X_test is known, forecast all upcoming periods"
      ]
    },
    {
      "cell_type": "code",
      "execution_count": 1,
      "metadata": {},
      "outputs": [
        {
          "ename": "NameError",
          "evalue": "name 'X_test' is not defined",
          "output_type": "error",
          "traceback": [
            "\u001b[1;31m---------------------------------------------------------------------------\u001b[0m",
            "\u001b[1;31mNameError\u001b[0m                                 Traceback (most recent call last)",
            "\u001b[1;32m<ipython-input-1-32d0b47d711f>\u001b[0m in \u001b[0;36m<module>\u001b[1;34m\u001b[0m\n\u001b[0;32m      3\u001b[0m \u001b[1;31m# These are predictions we are asking the model to make (does not contain thet target column y),\u001b[0m\u001b[1;33m\u001b[0m\u001b[1;33m\u001b[0m\u001b[1;33m\u001b[0m\u001b[0m\n\u001b[0;32m      4\u001b[0m \u001b[1;31m# for 6 periods beginning with 2000-01-02 06:00, which immediately follows the training data\u001b[0m\u001b[1;33m\u001b[0m\u001b[1;33m\u001b[0m\u001b[1;33m\u001b[0m\u001b[0m\n\u001b[1;32m----> 5\u001b[1;33m \u001b[0mX_test\u001b[0m\u001b[1;33m\u001b[0m\u001b[1;33m\u001b[0m\u001b[0m\n\u001b[0m",
            "\u001b[1;31mNameError\u001b[0m: name 'X_test' is not defined"
          ]
        }
      ],
      "source": [
        "# The data set contains hourly data, the training set ends at 01/02/2000 at 05:00\n",
        "\n",
        "# These are predictions we are asking the model to make (does not contain thet target column y),\n",
        "# for 6 periods beginning with 2000-01-02 06:00, which immediately follows the training data\n",
        "X_test"
      ]
    },
    {
      "cell_type": "code",
      "execution_count": null,
      "metadata": {},
      "outputs": [],
      "source": [
        "y_pred_no_gap, xy_nogap =  fitted_model.forecast(X_test)\n",
        "\n",
        "# xy_nogap contains the predictions in the _automl_target_col column.\n",
        "# Those same numbers are output in y_pred_no_gap\n",
        "xy_nogap"
      ]
    },
    {
      "cell_type": "markdown",
      "execution_count": null,
      "metadata": {},
      "outputs": [],
      "source": [
        "#### Confidence intervals"
      ]
    },
    {
      "cell_type": "markdown",
      "execution_count": null,
      "metadata": {},
      "outputs": [],
      "source": [
        "Forecasting model may be used for the prediction of forecasting intervals by running ```forecast_quantiles()```. \n",
        "This method accepts the same parameters as forecast()."
      ]
    },
    {
      "cell_type": "code",
      "execution_count": null,
      "metadata": {},
      "outputs": [],
      "source": [
        "quantiles =  fitted_model.forecast_quantiles(X_test)\n",
        "quantiles"
      ]
    },
    {
      "cell_type": "markdown",
      "execution_count": null,
      "metadata": {},
      "outputs": [],
      "source": [
        "#### Distribution forecasts\n",
        "\n",
        "Often the figure of interest is not just the point prediction, but the prediction at some quantile of the distribution. \n",
        "This arises when the forecast is used to control some kind of inventory, for example of grocery items or virtual machines for a cloud service. In such case, the control point is usually something like \"we want the item to be in stock and not run out 99% of the time\". This is called a \"service level\". Here is how you get quantile forecasts."
      ]
    },
    {
      "cell_type": "code",
      "execution_count": null,
      "metadata": {},
      "outputs": [],
      "source": [
        "# specify which quantiles you would like \n",
        "fitted_model.quantiles = [0.01, 0.5, 0.95]\n",
        "# use forecast_quantiles function, not the forecast() one\n",
        "y_pred_quantiles =  fitted_model.forecast_quantiles(X_test)\n",
        "\n",
        "# it all nicely aligns column-wise\n",
        "pd.concat([X_test.reset_index(), y_pred_quantiles], axis=1)"
      ]
    },
    {
      "cell_type": "markdown",
      "execution_count": null,
      "metadata": {},
      "outputs": [],
      "source": [
        "#### Destination-date forecast: \"just do something\"\n",
        "\n",
        "In some scenarios, the X_test is not known. The forecast is likely to be weak, because it is missing contemporaneous predictors, which we will need to impute. If you still wish to predict forward under the assumption that the last known values will be carried forward, you can forecast out to \"destination date\". The destination date still needs to fit within the maximum horizon from training."
      ]
    },
    {
      "cell_type": "code",
      "execution_count": null,
      "metadata": {},
      "outputs": [],
      "source": [
        "# We will take the destination date as a last date in the test set.\n",
        "dest = max(X_test[TIME_COLUMN_NAME])\n",
        "y_pred_dest, xy_dest = fitted_model.forecast(forecast_destination=dest)\n",
        "\n",
        "# This form also shows how we imputed the predictors which were not given. (Not so well! Use with caution!)\n",
        "xy_dest"
      ]
    },
    {
      "cell_type": "markdown",
      "execution_count": null,
      "metadata": {},
      "outputs": [],
      "source": [
        "## Forecasting away from training data <a id=\"forecasting_away\"></a>\n",
        "\n",
        "Suppose we trained a model, some time passed, and now we want to apply the model without re-training. If the model \"looks back\" -- uses previous values of the target -- then we somehow need to provide those values to the model.\n",
        "\n",
        "![Forecasting after training](forecast_function_away_from_train.png)\n",
        "\n",
        "The notion of forecast origin comes into play: the forecast origin is **the last period for which we have seen the target value**. This applies per grain, so each grain can have a different forecast origin. \n",
        "\n",
        "The part of data before the forecast origin is the **prediction context**. To provide the context values the model needs when it looks back, we pass definite values in `y_test` (aligned with corresponding times in `X_test`)."
      ]
    },
    {
      "cell_type": "code",
      "execution_count": null,
      "metadata": {},
      "outputs": [],
      "source": [
        "# generate the same kind of test data we trained on, \n",
        "# but now make the train set much longer, so that the test set will be in the future\n",
        "X_context, y_context, X_away, y_away = get_timeseries(train_len=42, # train data was 30 steps long\n",
        "                                      test_len=4,\n",
        "                                      time_column_name=TIME_COLUMN_NAME,\n",
        "                                      target_column_name=TARGET_COLUMN_NAME,\n",
        "                                      grain_column_name=GRAIN_COLUMN_NAME,\n",
        "                                      grains=2)\n",
        "\n",
        "# end of the data we trained on\n",
        "print(X_train.groupby(GRAIN_COLUMN_NAME)[TIME_COLUMN_NAME].max())\n",
        "# start of the data we want to predict on\n",
        "print(X_away.groupby(GRAIN_COLUMN_NAME)[TIME_COLUMN_NAME].min())"
      ]
    },
    {
      "cell_type": "markdown",
      "execution_count": null,
      "metadata": {},
      "outputs": [],
      "source": [
        "There is a gap of 12 hours between end of training and beginning of `X_away`. (It looks like 13 because all timestamps point to the start of the one hour periods.) Using only `X_away` will fail without adding context data for the model to consume."
      ]
    },
    {
      "cell_type": "code",
      "execution_count": null,
      "metadata": {},
      "outputs": [],
      "source": [
        "try: \n",
        "    y_pred_away, xy_away = fitted_model.forecast(X_away)\n",
        "    xy_away\n",
        "except Exception as e:\n",
        "    print(e)"
      ]
    },
    {
      "cell_type": "markdown",
      "execution_count": null,
      "metadata": {},
      "outputs": [],
      "source": [
        "How should we read that eror message? The forecast origin is at the last time the model saw an actual value of `y` (the target). That was at the end of the training data! The model is attempting to forecast from the end of training data. But the requested forecast periods are past the maximum horizon. We need to provide a define `y` value to establish the forecast origin.\n",
        "\n",
        "We will use this helper function to take the required amount of context from the data preceding the testing data. It's definition is intentionally simplified to keep the idea in the clear."
      ]
    },
    {
      "cell_type": "code",
      "execution_count": null,
      "metadata": {},
      "outputs": [],
      "source": [
        "def make_forecasting_query(fulldata, time_column_name, target_column_name, forecast_origin, horizon, lookback):\n",
        "\n",
        "    \"\"\"\n",
        "    This function will take the full dataset, and create the query\n",
        "    to predict all values of the grain from the `forecast_origin`\n",
        "    forward for the next `horizon` horizons. Context from previous\n",
        "    `lookback` periods will be included.\n",
        "\n",
        "    \n",
        "\n",
        "    fulldata: pandas.DataFrame           a time series dataset. Needs to contain X and y.\n",
        "    time_column_name: string             which column (must be in fulldata) is the time axis\n",
        "    target_column_name: string           which column (must be in fulldata) is to be forecast\n",
        "    forecast_origin: datetime type       the last time we (pretend to) have target values \n",
        "    horizon: timedelta                   how far forward, in time units (not periods)\n",
        "    lookback: timedelta                  how far back does the model look?\n",
        "\n",
        "    Example:\n",
        "\n",
        "\n",
        "    ```\n",
        "\n",
        "    forecast_origin = pd.to_datetime('2012-09-01') + pd.DateOffset(days=5) # forecast 5 days after end of training\n",
        "    print(forecast_origin)\n",
        "\n",
        "    X_query, y_query = make_forecasting_query(data, \n",
        "                       forecast_origin = forecast_origin,\n",
        "                       horizon = pd.DateOffset(days=7), # 7 days into the future\n",
        "                       lookback = pd.DateOffset(days=1), # model has lag 1 period (day)\n",
        "                      )\n",
        "\n",
        "    ```\n",
        "    \"\"\"\n",
        "\n",
        "    X_past = fulldata[ (fulldata[ time_column_name ] > forecast_origin - lookback) &\n",
        "                       (fulldata[ time_column_name ] <= forecast_origin)\n",
        "                     ]\n",
        "\n",
        "    X_future = fulldata[ (fulldata[ time_column_name ] > forecast_origin) &\n",
        "                         (fulldata[ time_column_name ] <= forecast_origin + horizon)\n",
        "                       ]\n",
        "\n",
        "    y_past = X_past.pop(target_column_name).values.astype(np.float)\n",
        "    y_future = X_future.pop(target_column_name).values.astype(np.float)\n",
        "\n",
        "    # Now take y_future and turn it into question marks\n",
        "    y_query = y_future.copy().astype(np.float)  # because sometimes life hands you an int\n",
        "    y_query.fill(np.NaN)\n",
        "\n",
        "\n",
        "    print(\"X_past is \" + str(X_past.shape) + \" - shaped\")\n",
        "    print(\"X_future is \" + str(X_future.shape) + \" - shaped\")\n",
        "    print(\"y_past is \" + str(y_past.shape) + \" - shaped\")\n",
        "    print(\"y_query is \" + str(y_query.shape) + \" - shaped\")\n",
        "\n",
        "\n",
        "    X_pred = pd.concat([X_past, X_future])\n",
        "    y_pred = np.concatenate([y_past, y_query])\n",
        "    return X_pred, y_pred"
      ]
    },
    {
      "cell_type": "markdown",
      "execution_count": null,
      "metadata": {},
      "outputs": [],
      "source": [
        "Let's see where the context data ends - it ends, by construction, just before the testing data starts."
      ]
    },
    {
      "cell_type": "code",
      "execution_count": null,
      "metadata": {},
      "outputs": [],
      "source": [
        "print(X_context.groupby(GRAIN_COLUMN_NAME)[TIME_COLUMN_NAME].agg(['min','max','count']))\n",
        "print(X_away.groupby(GRAIN_COLUMN_NAME)[TIME_COLUMN_NAME].agg(['min','max','count']))\n",
        "X_context.tail(5)"
      ]
    },
    {
      "cell_type": "code",
      "execution_count": null,
      "metadata": {},
      "outputs": [],
      "source": [
        "# Since the length of the lookback is 3, \n",
        "# we need to add 3 periods from the context to the request\n",
        "# so that the model has the data it needs\n",
        "\n",
        "# Put the X and y back together for a while. \n",
        "# They like each other and it makes them happy.\n",
        "X_context[TARGET_COLUMN_NAME] = y_context\n",
        "X_away[TARGET_COLUMN_NAME] = y_away\n",
        "fulldata = pd.concat([X_context, X_away])\n",
        "\n",
        "# forecast origin is the last point of data, which is one 1-hr period before test\n",
        "forecast_origin = X_away[TIME_COLUMN_NAME].min() - pd.DateOffset(hours=1)\n",
        "# it is indeed the last point of the context\n",
        "assert forecast_origin == X_context[TIME_COLUMN_NAME].max()\n",
        "print(\"Forecast origin: \" + str(forecast_origin))\n",
        "      \n",
        "# the model uses lags and rolling windows to look back in time\n",
        "n_lookback_periods = max(lags)\n",
        "lookback = pd.DateOffset(hours=n_lookback_periods)\n",
        "\n",
        "horizon = pd.DateOffset(hours=max_horizon)\n",
        "\n",
        "# now make the forecast query from context (refer to figure)\n",
        "X_pred, y_pred = make_forecasting_query(fulldata, TIME_COLUMN_NAME, TARGET_COLUMN_NAME,\n",
        "                                        forecast_origin, horizon, lookback)\n",
        "\n",
        "# show the forecast request aligned\n",
        "X_show = X_pred.copy()\n",
        "X_show[TARGET_COLUMN_NAME] = y_pred\n",
        "X_show"
      ]
    },
    {
      "cell_type": "markdown",
      "execution_count": null,
      "metadata": {},
      "outputs": [],
      "source": [
        "Note that the forecast origin is at 17:00 for both grains, and periods from 18:00 are to be forecast."
      ]
    },
    {
      "cell_type": "code",
      "execution_count": null,
      "metadata": {},
      "outputs": [],
      "source": [
        "# Now everything works\n",
        "y_pred_away, xy_away = fitted_model.forecast(X_pred, y_pred)\n",
        "\n",
        "# show the forecast aligned\n",
        "X_show = xy_away.reset_index()\n",
        "# without the generated features\n",
        "X_show[['date', 'grain', 'ext_predictor', '_automl_target_col']]\n",
        "# prediction is in _automl_target_col"
      ]
    }
  ],
  "metadata": {
    "authors": [
      {
        "name": "erwright, nirovins"
      }
    ],
    "category": "tutorial",
    "compute": [
      "Remote"
    ],
    "datasets": [
      "None"
    ],
    "deployment": [
      "None"
    ],
    "exclude_from_index": false,
    "framework": [
      "Azure ML AutoML"
    ],
    "friendly_name": "Forecasting away from training data",
    "index_order": 3,
    "kernelspec": {
      "display_name": "Python (py36_cloudML)",
      "language": "python",
      "name": "py36_cloudml"
    },
    "language_info": {
      "codemirror_mode": {
        "name": "ipython",
        "version": 3
      },
      "file_extension": ".py",
      "mimetype": "text/x-python",
      "name": "python",
      "nbconvert_exporter": "python",
      "pygments_lexer": "ipython3",
      "version": "3.6.10-final"
    },
    "tags": [
      "Forecasting",
      "Confidence Intervals"
    ],
    "task": "Forecasting"
  },
  "nbformat": 4,
  "nbformat_minor": 2
}